{
 "cells": [
  {
   "cell_type": "code",
   "execution_count": 278,
   "id": "40f9a420-7f60-4803-be31-f30011c1d5c6",
   "metadata": {},
   "outputs": [],
   "source": [
    "import random\n"
   ]
  },
  {
   "cell_type": "code",
   "execution_count": 280,
   "id": "e0be6698-6c86-4536-97be-c0581909951c",
   "metadata": {},
   "outputs": [],
   "source": [
    "def throw(player_choice):\n",
    "    computer_choice = random.randint(1,5)\n",
    "    computer_choice_word = \"\"\n",
    "    result = \"\"\n",
    "    \n",
    "    if computer_choice == 1:\n",
    "        computer_choice_word = \"Scissors\"\n",
    "        if player_choice == 3 or player_choice == 5:\n",
    "            result = \"you win\"\n",
    "        else:\n",
    "            result = \"you loose\"\n",
    "    \n",
    "    elif computer_choice == 2:\n",
    "        computer_choice_word = \"Paper\"\n",
    "        if player_choice == 1 or player_choice == 4:\n",
    "            result = \"you win\"\n",
    "        else:\n",
    "            result = \"you loose\"\n",
    "    \n",
    "    elif computer_choice == 3:\n",
    "        computer_choice_word = \"Rock\"\n",
    "        if player_choice == 2 or player_choice == 5:\n",
    "            result = \"you win\"\n",
    "        else:\n",
    "            result = \"you loose\"\n",
    "    \n",
    "    elif computer_choice == 4:\n",
    "        computer_choice_word = \"Lizard\"\n",
    "        if player_choice == 1 or player_choice == 3:\n",
    "            result = \"you win\"\n",
    "        else:\n",
    "            result = \"you loose\"\n",
    "        \n",
    "    elif computer_choice == 5:\n",
    "        computer_choice_word = \"Spock\"\n",
    "        if player_choice == 2 or player_choice == 4:\n",
    "            result = \"you win\"\n",
    "        else:\n",
    "            result = \"you loose\"\n",
    "        \n",
    "\n",
    "    if player_choice == computer_choice:\n",
    "        result = \"it's a draw\"\n",
    "\n",
    "    print(f\"Computer played {computer_choice_word}\") \n",
    "    draw_icon(computer_choice)\n",
    "    print(result)\n",
    "    return computer_choice_word, result"
   ]
  },
  {
   "cell_type": "code",
   "execution_count": 282,
   "id": "a15d35ec-bbac-41f1-b79c-b76b612e47f5",
   "metadata": {},
   "outputs": [],
   "source": [
    "def draw_icon(choice):\n",
    "    if choice == 1 or choice == \"Scissors\":\n",
    "        print(\"\"\"\n",
    "                    _______\n",
    "                ---'   ____)____\n",
    "                          ______)\n",
    "                       __________)\n",
    "                      (____)\n",
    "                ---.__(___)\n",
    "                \\n\"\"\")\n",
    "        \n",
    "    elif choice == 2 or choice == \"Paper\":\n",
    "        print(\"\"\"\n",
    "                    ________\n",
    "                ---'    ____)____\n",
    "                           ______)\n",
    "                          _______)\n",
    "                         _______)\n",
    "                ---.__________)\n",
    "                \\n\"\"\")\n",
    "        \n",
    "    elif choice == 3 or choice == \"Rock\":\n",
    "        print(\"\"\"\n",
    "                    _______\n",
    "                ---'   ____)\n",
    "                      (_____)\n",
    "                      (_____)\n",
    "                      (____)\n",
    "                ---.__(___)\n",
    "                \\n\"\"\")\n",
    "        \n",
    "    elif choice == 4 or choice == \"Lizard\":\n",
    "        print(\"\"\"\n",
    "                --------...._____\n",
    "                        _________)\n",
    "                -.     /\n",
    "                  \\    \\__\n",
    "                   *-..___)\n",
    "                \\n\"\"\")\n",
    "        \n",
    "    elif choice == 5 or choice == \"Spock\":\n",
    "        print(\"\"\"\n",
    "                    ⌒\n",
    "                  ⌒| |    ◜﹆◜﹆\n",
    "                 | || |  / // /\n",
    "                 |_|| | /-//=/\n",
    "                 | || |/ // /\n",
    "                 ( || | // /\n",
    "                 |         .______\n",
    "                 |           ____ )\n",
    "                 |         /\n",
    "               \\n\"\"\")"
   ]
  },
  {
   "cell_type": "code",
   "execution_count": 284,
   "id": "7ac1b3ca-2870-4561-baa6-a1090dace9de",
   "metadata": {},
   "outputs": [],
   "source": [
    "def play():\n",
    "    player_choice = \"\"\n",
    "    player_input = int(input(\"Please enter the number for your selection: \"))\n",
    "    if player_input == 1:\n",
    "        player_choice = \"Scissors\"\n",
    "        \n",
    "    elif player_input == 2:\n",
    "        player_choice = \"Paper\"\n",
    "\n",
    "    elif player_input == 3:\n",
    "        player_choice = \"Rock\"\n",
    "\n",
    "    elif player_input == 4:\n",
    "        player_choice = \"Lizard\"\n",
    "\n",
    "    elif player_input == 5:\n",
    "        player_choice = \"Spock\"\n",
    "\n",
    "    print(f\"You played {player_choice}\")\n",
    "    draw_icon(player_choice)\n",
    "    throw(player_input)"
   ]
  },
  {
   "cell_type": "code",
   "execution_count": 286,
   "id": "9ef979fe-02aa-4e5b-bc9f-c37556900e3f",
   "metadata": {},
   "outputs": [
    {
     "name": "stdout",
     "output_type": "stream",
     "text": [
      "\n",
      "\n",
      "1: Scissors (cuts paper & decapitates lizard)\n",
      "2: Paper (covers rock & disproves Spock)\n",
      "3: Rock (crushes lizard & scissors)\n",
      "4: Lizard (poisons Spock & eats paper)\n",
      "5: Spock (smashes scissors & vaporizes rock)\n",
      "\n",
      "\n"
     ]
    }
   ],
   "source": [
    "print(\"\"\"\\n\n",
    "1: Scissors (cuts paper & decapitates lizard)\n",
    "2: Paper (covers rock & disproves Spock)\n",
    "3: Rock (crushes lizard & scissors)\n",
    "4: Lizard (poisons Spock & eats paper)\n",
    "5: Spock (smashes scissors & vaporizes rock)\n",
    "\\n\"\"\")\n"
   ]
  },
  {
   "cell_type": "code",
   "execution_count": 290,
   "id": "86562f8a-9749-4cd0-9dba-5c441222c901",
   "metadata": {},
   "outputs": [
    {
     "name": "stdin",
     "output_type": "stream",
     "text": [
      "Please enter the number for your selection:  4\n"
     ]
    },
    {
     "name": "stdout",
     "output_type": "stream",
     "text": [
      "You played Lizard\n",
      "\n",
      "                ---.___________\n",
      "                        _______)\n",
      "                ---.________)\n",
      "                \n",
      "\n",
      "Computer played Rock\n",
      "\n",
      "                    _______\n",
      "                ---'   ____)\n",
      "                      (_____)\n",
      "                      (_____)\n",
      "                      (____)\n",
      "                ---.__(___)\n",
      "                \n",
      "\n",
      "you loose\n"
     ]
    }
   ],
   "source": [
    "play()"
   ]
  },
  {
   "cell_type": "code",
   "execution_count": null,
   "id": "ca4e28f4-48c6-44c9-9734-318ee5bccb2c",
   "metadata": {},
   "outputs": [],
   "source": []
  }
 ],
 "metadata": {
  "kernelspec": {
   "display_name": "Python [conda env:base] *",
   "language": "python",
   "name": "conda-base-py"
  },
  "language_info": {
   "codemirror_mode": {
    "name": "ipython",
    "version": 3
   },
   "file_extension": ".py",
   "mimetype": "text/x-python",
   "name": "python",
   "nbconvert_exporter": "python",
   "pygments_lexer": "ipython3",
   "version": "3.12.7"
  }
 },
 "nbformat": 4,
 "nbformat_minor": 5
}
